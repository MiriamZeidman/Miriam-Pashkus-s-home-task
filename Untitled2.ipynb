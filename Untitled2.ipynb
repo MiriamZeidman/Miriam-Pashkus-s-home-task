{
  "nbformat": 4,
  "nbformat_minor": 0,
  "metadata": {
    "colab": {
      "provenance": [],
      "authorship_tag": "ABX9TyMzGdLVgLPQ4qxbj0izQf9T",
      "include_colab_link": true
    },
    "kernelspec": {
      "name": "python3",
      "display_name": "Python 3"
    },
    "language_info": {
      "name": "python"
    }
  },
  "cells": [
    {
      "cell_type": "markdown",
      "metadata": {
        "id": "view-in-github",
        "colab_type": "text"
      },
      "source": [
        "<a href=\"https://colab.research.google.com/github/MiriamZeidman/Miriam-Pashkus-s-home-task/blob/main/Untitled2.ipynb\" target=\"_parent\"><img src=\"https://colab.research.google.com/assets/colab-badge.svg\" alt=\"Open In Colab\"/></a>"
      ]
    },
    {
      "cell_type": "markdown",
      "source": [
        "# Background - Introduction\n",
        "\n",
        "Using ChatGPT, I drafted the following paragraph  \n",
        "*(prompt used: \"Write a short introduction about the importance of analyzing clinical data from the NAMCS2016 survey focusing on chronic diseases and lab results.\")*\n",
        "\n",
        "The National Ambulatory Medical Care Survey (NAMCS) provides valuable insights into outpatient medical visits across the United States. Analyzing this data helps identify patterns in chronic diseases, medication use, and clinical outcomes, which can improve healthcare planning and patient management. This project focuses on analyzing the association between arthritis and serum creatinine levels as indicators of chronic disease impact on kidney function.\n",
        "\n"
      ],
      "metadata": {
        "id": "G87iU8P---CZ"
      }
    },
    {
      "cell_type": "markdown",
      "source": [
        "## Hypothesis\n",
        "\n",
        "**Goal of study:**  \n",
        "To evaluate whether patients with arthritis have different serum creatinine levels compared to patients without arthritis.\n",
        "\n",
        "---\n",
        "\n",
        "**H0 (Null Hypothesis):**  \n",
        "There is no difference in serum creatinine levels between patients with and without arthritis.\n",
        "\n",
        "**H1 (Alternative Hypothesis):**  \n",
        "Patients with arthritis have different serum creatinine levels compared to those without arthritis.\n",
        "\n"
      ],
      "metadata": {
        "id": "1hHTtk3K--bX"
      }
    },
    {
      "cell_type": "code",
      "source": [
        "import pandas as pd\n",
        "import numpy as np\n",
        "import matplotlib.pyplot as plt\n",
        "import seaborn as sns\n",
        "\n",
        "# Explicit import of the statistical functions you will use\n",
        "from scipy.stats import ttest_ind, chi2_contingency\n",
        "\n",
        "# Graph styling\n",
        "sns.set(style=\"whitegrid\")\n",
        "plt.rcParams[\"figure.figsize\"] = (10, 6)\n"
      ],
      "metadata": {
        "id": "4u0J1XGT--67"
      },
      "execution_count": 7,
      "outputs": []
    },
    {
      "cell_type": "code",
      "source": [
        "df = pd.read_csv(\"NAMCS_2016_AVODA_821a684a30d457b13c5433511bf82187 (1).csv\")\n",
        "\n",
        "print(\"Initial shape:\", df.shape)\n",
        "df.head()\n"
      ],
      "metadata": {
        "colab": {
          "base_uri": "https://localhost:8080/",
          "height": 359
        },
        "id": "BdJMuPO4-_MS",
        "outputId": "9ec39012-0055-4415-d27c-9c718269d7fd"
      },
      "execution_count": 8,
      "outputs": [
        {
          "output_type": "stream",
          "name": "stdout",
          "text": [
            "Initial shape: (13165, 82)\n"
          ]
        },
        {
          "output_type": "execute_result",
          "data": {
            "text/plain": [
              "   ID AGE     SEX        PREGNANT ETOHAB ALZHD ARTHRTIS ASTHMA  \\\n",
              "0   1   4  Female           Blank     No    No       No     No   \n",
              "1   2   6  Female           Blank     No    No       No     No   \n",
              "2   3   3  Female           Blank     No    No       No     No   \n",
              "3   4   3  Female           Blank     No    No       No     No   \n",
              "4   5   5    Male  Not applicable     No    No       No     No   \n",
              "\n",
              "         ASTH_SEV        ASTH_CON  ... DRUGID26 DRUGID27 DRUGID28 DRUGID29  \\\n",
              "0  Not applicable  Not applicable  ...      NaN      NaN      NaN      NaN   \n",
              "1  Not applicable  Not applicable  ...      NaN      NaN      NaN      NaN   \n",
              "2  Not applicable  Not applicable  ...      NaN      NaN      NaN      NaN   \n",
              "3  Not applicable  Not applicable  ...      NaN      NaN      NaN      NaN   \n",
              "4  Not applicable  Not applicable  ...      NaN      NaN      NaN      NaN   \n",
              "\n",
              "  DRUGID30 DIAG1 DIAG2 DIAG3 DIAG4 DIAG5  \n",
              "0      NaN  Q211  I489    -9    -9    -9  \n",
              "1      NaN  Q210  I272    -9    -9    -9  \n",
              "2      NaN  I272  Q250    -9    -9    -9  \n",
              "3      NaN  Q210  I10-  R011    -9    -9  \n",
              "4      NaN  I272  Q210    -9    -9    -9  \n",
              "\n",
              "[5 rows x 82 columns]"
            ],
            "text/html": [
              "\n",
              "  <div id=\"df-4a38e747-b7a5-4503-a709-b966f8758e8a\" class=\"colab-df-container\">\n",
              "    <div>\n",
              "<style scoped>\n",
              "    .dataframe tbody tr th:only-of-type {\n",
              "        vertical-align: middle;\n",
              "    }\n",
              "\n",
              "    .dataframe tbody tr th {\n",
              "        vertical-align: top;\n",
              "    }\n",
              "\n",
              "    .dataframe thead th {\n",
              "        text-align: right;\n",
              "    }\n",
              "</style>\n",
              "<table border=\"1\" class=\"dataframe\">\n",
              "  <thead>\n",
              "    <tr style=\"text-align: right;\">\n",
              "      <th></th>\n",
              "      <th>ID</th>\n",
              "      <th>AGE</th>\n",
              "      <th>SEX</th>\n",
              "      <th>PREGNANT</th>\n",
              "      <th>ETOHAB</th>\n",
              "      <th>ALZHD</th>\n",
              "      <th>ARTHRTIS</th>\n",
              "      <th>ASTHMA</th>\n",
              "      <th>ASTH_SEV</th>\n",
              "      <th>ASTH_CON</th>\n",
              "      <th>...</th>\n",
              "      <th>DRUGID26</th>\n",
              "      <th>DRUGID27</th>\n",
              "      <th>DRUGID28</th>\n",
              "      <th>DRUGID29</th>\n",
              "      <th>DRUGID30</th>\n",
              "      <th>DIAG1</th>\n",
              "      <th>DIAG2</th>\n",
              "      <th>DIAG3</th>\n",
              "      <th>DIAG4</th>\n",
              "      <th>DIAG5</th>\n",
              "    </tr>\n",
              "  </thead>\n",
              "  <tbody>\n",
              "    <tr>\n",
              "      <th>0</th>\n",
              "      <td>1</td>\n",
              "      <td>4</td>\n",
              "      <td>Female</td>\n",
              "      <td>Blank</td>\n",
              "      <td>No</td>\n",
              "      <td>No</td>\n",
              "      <td>No</td>\n",
              "      <td>No</td>\n",
              "      <td>Not applicable</td>\n",
              "      <td>Not applicable</td>\n",
              "      <td>...</td>\n",
              "      <td>NaN</td>\n",
              "      <td>NaN</td>\n",
              "      <td>NaN</td>\n",
              "      <td>NaN</td>\n",
              "      <td>NaN</td>\n",
              "      <td>Q211</td>\n",
              "      <td>I489</td>\n",
              "      <td>-9</td>\n",
              "      <td>-9</td>\n",
              "      <td>-9</td>\n",
              "    </tr>\n",
              "    <tr>\n",
              "      <th>1</th>\n",
              "      <td>2</td>\n",
              "      <td>6</td>\n",
              "      <td>Female</td>\n",
              "      <td>Blank</td>\n",
              "      <td>No</td>\n",
              "      <td>No</td>\n",
              "      <td>No</td>\n",
              "      <td>No</td>\n",
              "      <td>Not applicable</td>\n",
              "      <td>Not applicable</td>\n",
              "      <td>...</td>\n",
              "      <td>NaN</td>\n",
              "      <td>NaN</td>\n",
              "      <td>NaN</td>\n",
              "      <td>NaN</td>\n",
              "      <td>NaN</td>\n",
              "      <td>Q210</td>\n",
              "      <td>I272</td>\n",
              "      <td>-9</td>\n",
              "      <td>-9</td>\n",
              "      <td>-9</td>\n",
              "    </tr>\n",
              "    <tr>\n",
              "      <th>2</th>\n",
              "      <td>3</td>\n",
              "      <td>3</td>\n",
              "      <td>Female</td>\n",
              "      <td>Blank</td>\n",
              "      <td>No</td>\n",
              "      <td>No</td>\n",
              "      <td>No</td>\n",
              "      <td>No</td>\n",
              "      <td>Not applicable</td>\n",
              "      <td>Not applicable</td>\n",
              "      <td>...</td>\n",
              "      <td>NaN</td>\n",
              "      <td>NaN</td>\n",
              "      <td>NaN</td>\n",
              "      <td>NaN</td>\n",
              "      <td>NaN</td>\n",
              "      <td>I272</td>\n",
              "      <td>Q250</td>\n",
              "      <td>-9</td>\n",
              "      <td>-9</td>\n",
              "      <td>-9</td>\n",
              "    </tr>\n",
              "    <tr>\n",
              "      <th>3</th>\n",
              "      <td>4</td>\n",
              "      <td>3</td>\n",
              "      <td>Female</td>\n",
              "      <td>Blank</td>\n",
              "      <td>No</td>\n",
              "      <td>No</td>\n",
              "      <td>No</td>\n",
              "      <td>No</td>\n",
              "      <td>Not applicable</td>\n",
              "      <td>Not applicable</td>\n",
              "      <td>...</td>\n",
              "      <td>NaN</td>\n",
              "      <td>NaN</td>\n",
              "      <td>NaN</td>\n",
              "      <td>NaN</td>\n",
              "      <td>NaN</td>\n",
              "      <td>Q210</td>\n",
              "      <td>I10-</td>\n",
              "      <td>R011</td>\n",
              "      <td>-9</td>\n",
              "      <td>-9</td>\n",
              "    </tr>\n",
              "    <tr>\n",
              "      <th>4</th>\n",
              "      <td>5</td>\n",
              "      <td>5</td>\n",
              "      <td>Male</td>\n",
              "      <td>Not applicable</td>\n",
              "      <td>No</td>\n",
              "      <td>No</td>\n",
              "      <td>No</td>\n",
              "      <td>No</td>\n",
              "      <td>Not applicable</td>\n",
              "      <td>Not applicable</td>\n",
              "      <td>...</td>\n",
              "      <td>NaN</td>\n",
              "      <td>NaN</td>\n",
              "      <td>NaN</td>\n",
              "      <td>NaN</td>\n",
              "      <td>NaN</td>\n",
              "      <td>I272</td>\n",
              "      <td>Q210</td>\n",
              "      <td>-9</td>\n",
              "      <td>-9</td>\n",
              "      <td>-9</td>\n",
              "    </tr>\n",
              "  </tbody>\n",
              "</table>\n",
              "<p>5 rows × 82 columns</p>\n",
              "</div>\n",
              "    <div class=\"colab-df-buttons\">\n",
              "\n",
              "  <div class=\"colab-df-container\">\n",
              "    <button class=\"colab-df-convert\" onclick=\"convertToInteractive('df-4a38e747-b7a5-4503-a709-b966f8758e8a')\"\n",
              "            title=\"Convert this dataframe to an interactive table.\"\n",
              "            style=\"display:none;\">\n",
              "\n",
              "  <svg xmlns=\"http://www.w3.org/2000/svg\" height=\"24px\" viewBox=\"0 -960 960 960\">\n",
              "    <path d=\"M120-120v-720h720v720H120Zm60-500h600v-160H180v160Zm220 220h160v-160H400v160Zm0 220h160v-160H400v160ZM180-400h160v-160H180v160Zm440 0h160v-160H620v160ZM180-180h160v-160H180v160Zm440 0h160v-160H620v160Z\"/>\n",
              "  </svg>\n",
              "    </button>\n",
              "\n",
              "  <style>\n",
              "    .colab-df-container {\n",
              "      display:flex;\n",
              "      gap: 12px;\n",
              "    }\n",
              "\n",
              "    .colab-df-convert {\n",
              "      background-color: #E8F0FE;\n",
              "      border: none;\n",
              "      border-radius: 50%;\n",
              "      cursor: pointer;\n",
              "      display: none;\n",
              "      fill: #1967D2;\n",
              "      height: 32px;\n",
              "      padding: 0 0 0 0;\n",
              "      width: 32px;\n",
              "    }\n",
              "\n",
              "    .colab-df-convert:hover {\n",
              "      background-color: #E2EBFA;\n",
              "      box-shadow: 0px 1px 2px rgba(60, 64, 67, 0.3), 0px 1px 3px 1px rgba(60, 64, 67, 0.15);\n",
              "      fill: #174EA6;\n",
              "    }\n",
              "\n",
              "    .colab-df-buttons div {\n",
              "      margin-bottom: 4px;\n",
              "    }\n",
              "\n",
              "    [theme=dark] .colab-df-convert {\n",
              "      background-color: #3B4455;\n",
              "      fill: #D2E3FC;\n",
              "    }\n",
              "\n",
              "    [theme=dark] .colab-df-convert:hover {\n",
              "      background-color: #434B5C;\n",
              "      box-shadow: 0px 1px 3px 1px rgba(0, 0, 0, 0.15);\n",
              "      filter: drop-shadow(0px 1px 2px rgba(0, 0, 0, 0.3));\n",
              "      fill: #FFFFFF;\n",
              "    }\n",
              "  </style>\n",
              "\n",
              "    <script>\n",
              "      const buttonEl =\n",
              "        document.querySelector('#df-4a38e747-b7a5-4503-a709-b966f8758e8a button.colab-df-convert');\n",
              "      buttonEl.style.display =\n",
              "        google.colab.kernel.accessAllowed ? 'block' : 'none';\n",
              "\n",
              "      async function convertToInteractive(key) {\n",
              "        const element = document.querySelector('#df-4a38e747-b7a5-4503-a709-b966f8758e8a');\n",
              "        const dataTable =\n",
              "          await google.colab.kernel.invokeFunction('convertToInteractive',\n",
              "                                                    [key], {});\n",
              "        if (!dataTable) return;\n",
              "\n",
              "        const docLinkHtml = 'Like what you see? Visit the ' +\n",
              "          '<a target=\"_blank\" href=https://colab.research.google.com/notebooks/data_table.ipynb>data table notebook</a>'\n",
              "          + ' to learn more about interactive tables.';\n",
              "        element.innerHTML = '';\n",
              "        dataTable['output_type'] = 'display_data';\n",
              "        await google.colab.output.renderOutput(dataTable, element);\n",
              "        const docLink = document.createElement('div');\n",
              "        docLink.innerHTML = docLinkHtml;\n",
              "        element.appendChild(docLink);\n",
              "      }\n",
              "    </script>\n",
              "  </div>\n",
              "\n",
              "\n",
              "    <div id=\"df-fbcfd695-5aad-4cdb-99e7-2544fda05ee1\">\n",
              "      <button class=\"colab-df-quickchart\" onclick=\"quickchart('df-fbcfd695-5aad-4cdb-99e7-2544fda05ee1')\"\n",
              "                title=\"Suggest charts\"\n",
              "                style=\"display:none;\">\n",
              "\n",
              "<svg xmlns=\"http://www.w3.org/2000/svg\" height=\"24px\"viewBox=\"0 0 24 24\"\n",
              "     width=\"24px\">\n",
              "    <g>\n",
              "        <path d=\"M19 3H5c-1.1 0-2 .9-2 2v14c0 1.1.9 2 2 2h14c1.1 0 2-.9 2-2V5c0-1.1-.9-2-2-2zM9 17H7v-7h2v7zm4 0h-2V7h2v10zm4 0h-2v-4h2v4z\"/>\n",
              "    </g>\n",
              "</svg>\n",
              "      </button>\n",
              "\n",
              "<style>\n",
              "  .colab-df-quickchart {\n",
              "      --bg-color: #E8F0FE;\n",
              "      --fill-color: #1967D2;\n",
              "      --hover-bg-color: #E2EBFA;\n",
              "      --hover-fill-color: #174EA6;\n",
              "      --disabled-fill-color: #AAA;\n",
              "      --disabled-bg-color: #DDD;\n",
              "  }\n",
              "\n",
              "  [theme=dark] .colab-df-quickchart {\n",
              "      --bg-color: #3B4455;\n",
              "      --fill-color: #D2E3FC;\n",
              "      --hover-bg-color: #434B5C;\n",
              "      --hover-fill-color: #FFFFFF;\n",
              "      --disabled-bg-color: #3B4455;\n",
              "      --disabled-fill-color: #666;\n",
              "  }\n",
              "\n",
              "  .colab-df-quickchart {\n",
              "    background-color: var(--bg-color);\n",
              "    border: none;\n",
              "    border-radius: 50%;\n",
              "    cursor: pointer;\n",
              "    display: none;\n",
              "    fill: var(--fill-color);\n",
              "    height: 32px;\n",
              "    padding: 0;\n",
              "    width: 32px;\n",
              "  }\n",
              "\n",
              "  .colab-df-quickchart:hover {\n",
              "    background-color: var(--hover-bg-color);\n",
              "    box-shadow: 0 1px 2px rgba(60, 64, 67, 0.3), 0 1px 3px 1px rgba(60, 64, 67, 0.15);\n",
              "    fill: var(--button-hover-fill-color);\n",
              "  }\n",
              "\n",
              "  .colab-df-quickchart-complete:disabled,\n",
              "  .colab-df-quickchart-complete:disabled:hover {\n",
              "    background-color: var(--disabled-bg-color);\n",
              "    fill: var(--disabled-fill-color);\n",
              "    box-shadow: none;\n",
              "  }\n",
              "\n",
              "  .colab-df-spinner {\n",
              "    border: 2px solid var(--fill-color);\n",
              "    border-color: transparent;\n",
              "    border-bottom-color: var(--fill-color);\n",
              "    animation:\n",
              "      spin 1s steps(1) infinite;\n",
              "  }\n",
              "\n",
              "  @keyframes spin {\n",
              "    0% {\n",
              "      border-color: transparent;\n",
              "      border-bottom-color: var(--fill-color);\n",
              "      border-left-color: var(--fill-color);\n",
              "    }\n",
              "    20% {\n",
              "      border-color: transparent;\n",
              "      border-left-color: var(--fill-color);\n",
              "      border-top-color: var(--fill-color);\n",
              "    }\n",
              "    30% {\n",
              "      border-color: transparent;\n",
              "      border-left-color: var(--fill-color);\n",
              "      border-top-color: var(--fill-color);\n",
              "      border-right-color: var(--fill-color);\n",
              "    }\n",
              "    40% {\n",
              "      border-color: transparent;\n",
              "      border-right-color: var(--fill-color);\n",
              "      border-top-color: var(--fill-color);\n",
              "    }\n",
              "    60% {\n",
              "      border-color: transparent;\n",
              "      border-right-color: var(--fill-color);\n",
              "    }\n",
              "    80% {\n",
              "      border-color: transparent;\n",
              "      border-right-color: var(--fill-color);\n",
              "      border-bottom-color: var(--fill-color);\n",
              "    }\n",
              "    90% {\n",
              "      border-color: transparent;\n",
              "      border-bottom-color: var(--fill-color);\n",
              "    }\n",
              "  }\n",
              "</style>\n",
              "\n",
              "      <script>\n",
              "        async function quickchart(key) {\n",
              "          const quickchartButtonEl =\n",
              "            document.querySelector('#' + key + ' button');\n",
              "          quickchartButtonEl.disabled = true;  // To prevent multiple clicks.\n",
              "          quickchartButtonEl.classList.add('colab-df-spinner');\n",
              "          try {\n",
              "            const charts = await google.colab.kernel.invokeFunction(\n",
              "                'suggestCharts', [key], {});\n",
              "          } catch (error) {\n",
              "            console.error('Error during call to suggestCharts:', error);\n",
              "          }\n",
              "          quickchartButtonEl.classList.remove('colab-df-spinner');\n",
              "          quickchartButtonEl.classList.add('colab-df-quickchart-complete');\n",
              "        }\n",
              "        (() => {\n",
              "          let quickchartButtonEl =\n",
              "            document.querySelector('#df-fbcfd695-5aad-4cdb-99e7-2544fda05ee1 button');\n",
              "          quickchartButtonEl.style.display =\n",
              "            google.colab.kernel.accessAllowed ? 'block' : 'none';\n",
              "        })();\n",
              "      </script>\n",
              "    </div>\n",
              "\n",
              "    </div>\n",
              "  </div>\n"
            ],
            "application/vnd.google.colaboratory.intrinsic+json": {
              "type": "dataframe",
              "variable_name": "df"
            }
          },
          "metadata": {},
          "execution_count": 8
        }
      ]
    },
    {
      "cell_type": "markdown",
      "source": [
        "## Data Loading\n",
        "\n",
        "In this step, we load the NAMCS 2016 dataset, which contains information about outpatient medical visits across the United States.  \n",
        "Each row corresponds to a single patient visit, with demographic information, clinical measurements, diagnoses, and prescribed medications.\n",
        "\n",
        "Loading the data allows us to begin exploring the dataset and preparing it for analysis.\n"
      ],
      "metadata": {
        "id": "jrLsy7RgK2sS"
      }
    },
    {
      "cell_type": "code",
      "source": [
        "# Basic cleaning and renaming columns to uppercase without spaces\n",
        "df.columns = df.columns.str.strip().str.upper()\n",
        "\n",
        "# Convert sex values to readable labels\n",
        "df['SEX'] = df['SEX'].replace({1: 'Male', 2: 'Female'})\n",
        "\n",
        "# Convert AGE and SERUMRESR columns to numeric; invalid values will become NaN\n",
        "df['AGE'] = pd.to_numeric(df['AGE'], errors='coerce')\n",
        "df['SERUMRESR'] = pd.to_numeric(df['SERUMRESR'], errors='coerce')\n",
        "\n",
        "# Remove rows with missing values in key columns needed for analysis\n",
        "df = df.dropna(subset=[\"ARTHRTIS\", \"SERUMRESR\", \"AGE\"])\n",
        "\n",
        "print(f\"Rows after cleaning and dropna: {df.shape[0]}\")\n",
        "\n",
        "\n"
      ],
      "metadata": {
        "colab": {
          "base_uri": "https://localhost:8080/"
        },
        "id": "J-pBeS8TLOEU",
        "outputId": "42260b84-4632-4689-afe5-f7ef4138480a"
      },
      "execution_count": 9,
      "outputs": [
        {
          "output_type": "stream",
          "name": "stdout",
          "text": [
            "Rows after cleaning and dropna: 1503\n"
          ]
        }
      ]
    },
    {
      "cell_type": "markdown",
      "source": [
        "## Data Cleaning and Preparation\n",
        "\n",
        "In this step, we clean the dataset by:  \n",
        "- Stripping and capitalizing column names for consistency.  \n",
        "- Converting coded variables to meaningful labels (e.g., SEX from 1/2 to Male/Female).  \n",
        "- Converting AGE and SERUMRESR to numeric types, coercing invalid values to NaN.  \n",
        "- Removing rows with missing values in critical columns to ensure reliable analysis.  \n",
        "\n",
        "This prepares the dataset for accurate and meaningful statistical analysis.\n"
      ],
      "metadata": {
        "id": "A0ZqtvlHLREx"
      }
    },
    {
      "cell_type": "code",
      "source": [
        "# Basic descriptive statistics for numeric variables\n",
        "print(df[['AGE', 'SERUMRESR']].describe())\n",
        "\n",
        "# Count of categories for SEX and ARTHRTIS\n",
        "print(df['SEX'].value_counts())\n",
        "print(df['ARTHRTIS'].value_counts())\n"
      ],
      "metadata": {
        "colab": {
          "base_uri": "https://localhost:8080/"
        },
        "id": "limZk8nq-_tW",
        "outputId": "5b70a6ab-caa7-41a8-c2e8-85fb874df222"
      },
      "execution_count": 10,
      "outputs": [
        {
          "output_type": "stream",
          "name": "stdout",
          "text": [
            "               AGE    SERUMRESR\n",
            "count  1503.000000  1503.000000\n",
            "mean     59.927478     0.996786\n",
            "std      17.460953     0.766853\n",
            "min       1.000000     0.100000\n",
            "25%      50.000000     0.740000\n",
            "50%      63.000000     0.890000\n",
            "75%      73.000000     1.060000\n",
            "max      91.000000    15.300000\n",
            "SEX\n",
            "Female    847\n",
            "Male      656\n",
            "Name: count, dtype: int64\n",
            "ARTHRTIS\n",
            "No     1182\n",
            "Yes     321\n",
            "Name: count, dtype: int64\n"
          ]
        }
      ]
    },
    {
      "cell_type": "markdown",
      "source": [
        "## Descriptive Statistics\n",
        "\n",
        "The table above shows the distribution of age and serum creatinine levels in the cleaned dataset.  \n",
        "We also see the counts for sex and arthritis status, providing an initial understanding of the sample composition.\n"
      ],
      "metadata": {
        "id": "qXhwqNNOLWe-"
      }
    },
    {
      "cell_type": "code",
      "source": [
        "# Divide into two groups: with arthritis and without arthritis\n",
        "grouped = df.groupby('ARTHRTIS')\n",
        "\n",
        "# Calculate mean and standard deviation of age and serum creatinine for each group\n",
        "table1 = grouped[['AGE', 'SERUMRESR']].agg(['mean', 'std']).round(2)\n",
        "print(table1)\n",
        "\n",
        "# Count of males and females in each group\n",
        "sex_counts = df.groupby(['ARTHRTIS', 'SEX']).size().unstack()\n",
        "print(sex_counts)\n",
        "\n"
      ],
      "metadata": {
        "colab": {
          "base_uri": "https://localhost:8080/"
        },
        "id": "ndq2H7vq-_8r",
        "outputId": "528430b4-c1c0-44de-abb0-23806996ed66"
      },
      "execution_count": 11,
      "outputs": [
        {
          "output_type": "stream",
          "name": "stdout",
          "text": [
            "            AGE        SERUMRESR      \n",
            "           mean    std      mean   std\n",
            "ARTHRTIS                              \n",
            "No        58.11  18.04      1.00  0.82\n",
            "Yes       66.60  13.15      0.97  0.53\n",
            "SEX       Female  Male\n",
            "ARTHRTIS              \n",
            "No           643   539\n",
            "Yes          204   117\n"
          ]
        }
      ]
    },
    {
      "cell_type": "markdown",
      "source": [
        "## Grouped Descriptive Statistics (Table 1)\n",
        "\n",
        "This table shows the mean and standard deviation of age and serum creatinine levels for patients with and without arthritis.  \n",
        "The counts of males and females in each arthritis group are also presented.  \n",
        "\n",
        "This helps us understand how these variables differ by arthritis status.\n"
      ],
      "metadata": {
        "id": "L7Xv-Zg8Lb4N"
      }
    },
    {
      "cell_type": "code",
      "source": [
        "# Separate the two groups based on arthritis status\n",
        "group1 = df[df['ARTHRTIS'] == 1]['SERUMRESR']\n",
        "group0 = df[df['ARTHRTIS'] == 0]['SERUMRESR']\n",
        "\n",
        "# T-test to compare mean serum creatinine between the two groups\n",
        "t_stat, p_value = ttest_ind(group1, group0, nan_policy='omit')\n",
        "print(f\"T-test for serum creatinine between arthritis groups:\\n t={t_stat:.3f}, p={p_value:.3f}\")\n",
        "\n",
        "# Contingency table of sex by arthritis status\n",
        "contingency = pd.crosstab(df['ARTHRTIS'], df['SEX'])\n",
        "\n",
        "# Chi-square test for proportion differences between sex distributions\n",
        "chi2, p, dof, expected = chi2_contingency(contingency)\n",
        "print(f\"Chi-square test for sex distribution by arthritis:\\n chi2={chi2:.3f}, p={p:.3f}\")\n"
      ],
      "metadata": {
        "colab": {
          "base_uri": "https://localhost:8080/"
        },
        "id": "1mh0R66s_AMC",
        "outputId": "800530ab-d474-4dc8-9714-24473ab4cf57"
      },
      "execution_count": 12,
      "outputs": [
        {
          "output_type": "stream",
          "name": "stdout",
          "text": [
            "T-test for serum creatinine between arthritis groups:\n",
            " t=nan, p=nan\n",
            "Chi-square test for sex distribution by arthritis:\n",
            " chi2=8.229, p=0.004\n"
          ]
        },
        {
          "output_type": "stream",
          "name": "stderr",
          "text": [
            "/usr/local/lib/python3.11/dist-packages/scipy/_lib/deprecation.py:234: SmallSampleWarning: One or more sample arguments is too small; all returned values will be NaN. See documentation for sample size requirements.\n",
            "  return f(*args, **kwargs)\n"
          ]
        }
      ]
    },
    {
      "cell_type": "markdown",
      "source": [
        "## Statistical Tests Interpretation\n",
        "\n",
        "The t-test compares the average serum creatinine levels between patients with and without arthritis.  \n",
        "The Chi-square test evaluates whether the distribution of sexes differs significantly between the arthritis groups.\n",
        "\n",
        "Significant p-values (typically < 0.05) suggest differences between the groups in these variables.\n"
      ],
      "metadata": {
        "id": "vw-xcIbsFXYN"
      }
    },
    {
      "cell_type": "code",
      "source": [
        "sns.histplot(data=df, x='SERUMRESR', hue='ARTHRTIS', kde=True, palette='Set1', bins=30)\n",
        "plt.title('Distribution of Serum Creatinine by Arthritis Status')\n",
        "plt.xlabel('Serum Creatinine')\n",
        "plt.ylabel('Count')\n",
        "plt.legend(title='Arthritis', labels=['No', 'Yes'])\n",
        "plt.show()\n"
      ],
      "metadata": {
        "colab": {
          "base_uri": "https://localhost:8080/",
          "height": 573
        },
        "id": "0Ik4QKOSLpc0",
        "outputId": "86b8323b-7f49-412e-e4ea-739c809214e3"
      },
      "execution_count": 13,
      "outputs": [
        {
          "output_type": "display_data",
          "data": {
            "text/plain": [
              "<Figure size 1000x600 with 1 Axes>"
            ],
            "image/png": "[encoded data removed]"
          },
          "metadata": {}
        }
      ]
    },
    {
      "cell_type": "markdown",
      "source": [
        "## Histogram of Serum Creatinine by Arthritis Status\n",
        "\n",
        "This histogram shows the distribution of serum creatinine levels for patients with and without arthritis.  \n",
        "The Kernel Density Estimate (KDE) lines help visualize the shape of the distributions.\n",
        "\n",
        "Differences in the distribution shape or central tendency may indicate an association between arthritis status and kidney function.\n"
      ],
      "metadata": {
        "id": "rp5oa_F5LrVw"
      }
    },
    {
      "cell_type": "code",
      "source": [
        "table1['SERUMRESR']['mean'].plot(kind='bar', yerr=table1['SERUMRESR']['std'], color=['blue', 'orange'])\n",
        "plt.title('Mean Serum Creatinine by Arthritis Status with Standard Deviation')\n",
        "plt.xlabel('Arthritis (0=No, 1=Yes)')\n",
        "plt.ylabel('Mean Serum Creatinine')\n",
        "plt.xticks(ticks=[0,1], labels=['No Arthritis', 'Arthritis'], rotation=0)\n",
        "plt.show()\n"
      ],
      "metadata": {
        "colab": {
          "base_uri": "https://localhost:8080/",
          "height": 573
        },
        "id": "lBTxpkzKLto1",
        "outputId": "968310c2-3757-4185-e17b-50f5542c218e"
      },
      "execution_count": 14,
      "outputs": [
        {
          "output_type": "display_data",
          "data": {
            "text/plain": [
              "<Figure size 1000x600 with 1 Axes>"
            ],
            "image/png": "[encoded data removed]"
          },
          "metadata": {}
        }
      ]
    },
    {
      "cell_type": "markdown",
      "source": [
        "## Mean Serum Creatinine Levels by Arthritis Status\n",
        "\n",
        "This bar chart shows the average serum creatinine level in each arthritis group,  \n",
        "with error bars representing one standard deviation.\n",
        "\n",
        "It visually supports the statistical comparison made with the t-test, showing any differences in means.\n"
      ],
      "metadata": {
        "id": "pf6BlDh6Lvn6"
      }
    },
    {
      "cell_type": "markdown",
      "source": [
        "### Summary of Findings\n",
        "\n",
        "- The analysis revealed that the difference in serum creatinine levels between arthritis groups was **not statistically significant** (p=nan), likely due to small sample size in one of the groups.\n",
        "- There was a statistically significant difference in the distribution of sex between arthritis groups (Chi-square p=0.004), indicating possible demographic differences.\n",
        "- Overall, the findings suggest that arthritis status may not be strongly associated with kidney function as measured by serum creatinine, but further research with larger samples is needed.\n"
      ],
      "metadata": {
        "id": "wuZ_-q--XFOZ"
      }
    }
  ]
}